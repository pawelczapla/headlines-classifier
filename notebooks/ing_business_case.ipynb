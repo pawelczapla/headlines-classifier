{
  "cells": [
    {
      "cell_type": "markdown",
      "metadata": {
        "id": "vmd1ivWyJvqB"
      },
      "source": [
        "# **ING Business Case**\n",
        "    by Paweł Czapla\n"
      ]
    },
    {
      "cell_type": "code",
      "execution_count": 2,
      "metadata": {
        "colab": {
          "base_uri": "https://localhost:8080/",
          "height": 0
        },
        "id": "tj6yoy24n6RA",
        "outputId": "604f1b60-a25e-4cbc-ef63-30331329c79b"
      },
      "outputs": [
        {
          "name": "stdout",
          "output_type": "stream",
          "text": [
            "--2025-02-26 17:45:32--  https://archive.ics.uci.edu/ml/machine-learning-databases/00359/NewsAggregatorDataset.zip\n",
            "Resolving archive.ics.uci.edu (archive.ics.uci.edu)... 128.195.10.252\n",
            "Connecting to archive.ics.uci.edu (archive.ics.uci.edu)|128.195.10.252|:443... connected.\n",
            "HTTP request sent, awaiting response... 200 OK\n",
            "Length: unspecified\n",
            "Saving to: ‘NewsAggregatorDataset.zip.4’\n",
            "\n",
            "NewsAggregatorDatas     [               <=>  ]  27.87M  6.63MB/s    in 4.9s    \n",
            "\n",
            "2025-02-26 17:45:38 (5.64 MB/s) - ‘NewsAggregatorDataset.zip.4’ saved [29224203]\n",
            "\n",
            "Archive:  NewsAggregatorDataset.zip\n",
            "replace 2pageSessions.csv? [y]es, [n]o, [A]ll, [N]one, [r]ename: N\n"
          ]
        }
      ],
      "source": [
        "!wget https://archive.ics.uci.edu/ml/machine-learning-databases/00359/NewsAggregatorDataset.zip\n",
        "!unzip NewsAggregatorDataset.zip"
      ]
    },
    {
      "cell_type": "code",
      "execution_count": 3,
      "metadata": {
        "id": "Vx9jykw4pCM1"
      },
      "outputs": [],
      "source": [
        "from pyspark.sql import SparkSession\n",
        "\n",
        "spark = SparkSession.builder.appName(\"ing_business_case\").getOrCreate()"
      ]
    },
    {
      "cell_type": "markdown",
      "metadata": {
        "id": "X0bx8AfnsmPG"
      },
      "source": [
        "# EDA & Feature selection"
      ]
    },
    {
      "cell_type": "markdown",
      "metadata": {
        "id": "KJIZs0is6fGv"
      },
      "source": [
        "## 1. Inspecting and Renaming Columns\n",
        "After loading the dataset, the structure of the data is examined.\n",
        "\n",
        "Once the schema is validated, meaningful column names are assigned to improve readability."
      ]
    },
    {
      "cell_type": "code",
      "execution_count": 4,
      "metadata": {
        "colab": {
          "base_uri": "https://localhost:8080/",
          "height": 0
        },
        "id": "2Phtr_31q8cF",
        "outputId": "56494be6-2c79-4d92-f1c9-22c394c72107"
      },
      "outputs": [
        {
          "name": "stdout",
          "output_type": "stream",
          "text": [
            "root\n",
            " |-- _c0: integer (nullable = true)\n",
            " |-- _c1: string (nullable = true)\n",
            " |-- _c2: string (nullable = true)\n",
            " |-- _c3: string (nullable = true)\n",
            " |-- _c4: string (nullable = true)\n",
            " |-- _c5: string (nullable = true)\n",
            " |-- _c6: string (nullable = true)\n",
            " |-- _c7: long (nullable = true)\n",
            "\n"
          ]
        }
      ],
      "source": [
        "df = spark.read.csv(\"newsCorpora.csv\", sep=\"\\t\", header=False, inferSchema=True)\n",
        "\n",
        "df.printSchema()"
      ]
    },
    {
      "cell_type": "code",
      "execution_count": 5,
      "metadata": {
        "colab": {
          "base_uri": "https://localhost:8080/",
          "height": 0
        },
        "id": "51VlbnxiKFnM",
        "outputId": "9a83b116-c5b3-4543-8dbf-317c2d1d72e0"
      },
      "outputs": [
        {
          "name": "stdout",
          "output_type": "stream",
          "text": [
            "+---+--------------------+--------------------+-----------------+---+--------------------+-------------------+-------------+\n",
            "|_c0|                 _c1|                 _c2|              _c3|_c4|                 _c5|                _c6|          _c7|\n",
            "+---+--------------------+--------------------+-----------------+---+--------------------+-------------------+-------------+\n",
            "|  1|Fed official says...|http://www.latime...|Los Angeles Times|  b|ddUyU0VZz0BRneMio...|    www.latimes.com|1394470370698|\n",
            "|  2|Fed's Charles Plo...|http://www.livemi...|         Livemint|  b|ddUyU0VZz0BRneMio...|   www.livemint.com|1394470371207|\n",
            "|  3|US open: Stocks f...|http://www.ifamag...|     IFA Magazine|  b|ddUyU0VZz0BRneMio...|www.ifamagazine.com|1394470371550|\n",
            "|  4|Fed risks falling...|http://www.ifamag...|     IFA Magazine|  b|ddUyU0VZz0BRneMio...|www.ifamagazine.com|1394470371793|\n",
            "|  5|Fed's Plosser: Na...|http://www.moneyn...|        Moneynews|  b|ddUyU0VZz0BRneMio...|  www.moneynews.com|1394470372027|\n",
            "+---+--------------------+--------------------+-----------------+---+--------------------+-------------------+-------------+\n",
            "only showing top 5 rows\n",
            "\n"
          ]
        }
      ],
      "source": [
        "df.show(5)"
      ]
    },
    {
      "cell_type": "code",
      "execution_count": 6,
      "metadata": {
        "colab": {
          "base_uri": "https://localhost:8080/",
          "height": 0
        },
        "id": "JJymxeJFr8Gg",
        "outputId": "3fa2b149-549a-4f0f-d570-e73eb8dafc4f"
      },
      "outputs": [
        {
          "name": "stdout",
          "output_type": "stream",
          "text": [
            "+---+--------------------+--------------------+-----------------+--------+--------------------+-------------------+-------------+\n",
            "| ID|               Title|                 URL|        Publisher|Category|               Story|           Hostname|    Timestamp|\n",
            "+---+--------------------+--------------------+-----------------+--------+--------------------+-------------------+-------------+\n",
            "|  1|Fed official says...|http://www.latime...|Los Angeles Times|       b|ddUyU0VZz0BRneMio...|    www.latimes.com|1394470370698|\n",
            "|  2|Fed's Charles Plo...|http://www.livemi...|         Livemint|       b|ddUyU0VZz0BRneMio...|   www.livemint.com|1394470371207|\n",
            "|  3|US open: Stocks f...|http://www.ifamag...|     IFA Magazine|       b|ddUyU0VZz0BRneMio...|www.ifamagazine.com|1394470371550|\n",
            "|  4|Fed risks falling...|http://www.ifamag...|     IFA Magazine|       b|ddUyU0VZz0BRneMio...|www.ifamagazine.com|1394470371793|\n",
            "|  5|Fed's Plosser: Na...|http://www.moneyn...|        Moneynews|       b|ddUyU0VZz0BRneMio...|  www.moneynews.com|1394470372027|\n",
            "+---+--------------------+--------------------+-----------------+--------+--------------------+-------------------+-------------+\n",
            "only showing top 5 rows\n",
            "\n"
          ]
        }
      ],
      "source": [
        "df = df.toDF(\"ID\", \"Title\", \"URL\", \"Publisher\", \"Category\", \"Story\", \"Hostname\", \"Timestamp\")\n",
        "\n",
        "df.show(5)"
      ]
    },
    {
      "cell_type": "markdown",
      "metadata": {
        "id": "MbLOJVex6odW"
      },
      "source": [
        "## 2. Feature Selection\n",
        "Only the necessary columns are retained from the dataset.\n",
        "\n",
        "The only columns that could affect classification would be ***Title*** and ***Publisher***.\n",
        "\n",
        "For simplicity, the ***Publisher*** column was omitted, as it would not affect the result in a significant extent."
      ]
    },
    {
      "cell_type": "code",
      "execution_count": 7,
      "metadata": {
        "colab": {
          "base_uri": "https://localhost:8080/",
          "height": 0
        },
        "id": "nAwSsxojHtpJ",
        "outputId": "e55495cc-7993-40f6-ea00-0a2ed242baf0"
      },
      "outputs": [
        {
          "name": "stdout",
          "output_type": "stream",
          "text": [
            "+---------------------------------------------------------------------+--------+\n",
            "|Title                                                                |Category|\n",
            "+---------------------------------------------------------------------+--------+\n",
            "|Fed official says weak data caused by weather, should not slow taper |b       |\n",
            "|Fed's Charles Plosser sees high bar for change in pace of tapering   |b       |\n",
            "|US open: Stocks fall after Fed official hints at accelerated tapering|b       |\n",
            "|Fed risks falling 'behind the curve', Charles Plosser says           |b       |\n",
            "|Fed's Plosser: Nasty Weather Has Curbed Job Growth                   |b       |\n",
            "+---------------------------------------------------------------------+--------+\n",
            "only showing top 5 rows\n",
            "\n"
          ]
        }
      ],
      "source": [
        "df = df.select(\"Title\", \"Category\")\n",
        "\n",
        "df.show(5, truncate=False)"
      ]
    },
    {
      "cell_type": "markdown",
      "metadata": {
        "id": "EU3-o79l7Zii"
      },
      "source": [
        "## 3. Removing Duplicate Entries\n",
        "To ensure data integrity, duplicate records based on the ***Title*** column are removed.\n",
        "\n",
        "This step prevents redundant information from skewing analysis and improves the accuracy of insights derived from the dataset."
      ]
    },
    {
      "cell_type": "code",
      "execution_count": 8,
      "metadata": {
        "id": "eSbPAut-tJNc"
      },
      "outputs": [],
      "source": [
        "df = df.dropDuplicates([\"Title\"])"
      ]
    },
    {
      "cell_type": "markdown",
      "metadata": {
        "id": "0H909dse7fO1"
      },
      "source": [
        "## 4. Handling Missing Values\n",
        "Records with missing values in the ***Title*** or ***Category*** columns are dropped from the dataset.\n",
        "\n",
        "This ensures that subsequent analyses are performed on complete and meaningful data, preventing potential errors or misleading interpretations."
      ]
    },
    {
      "cell_type": "code",
      "execution_count": 9,
      "metadata": {
        "colab": {
          "base_uri": "https://localhost:8080/",
          "height": 0
        },
        "id": "GBQeW8dmpUKh",
        "outputId": "ba10ca3d-6de6-400e-d687-5189c56d8b28"
      },
      "outputs": [
        {
          "name": "stdout",
          "output_type": "stream",
          "text": [
            "+--------+------+\n",
            "|Category| count|\n",
            "+--------+------+\n",
            "|       m| 43633|\n",
            "|    NULL|     9|\n",
            "|       e|147190|\n",
            "|       b|111668|\n",
            "|       t|104440|\n",
            "+--------+------+\n",
            "\n"
          ]
        }
      ],
      "source": [
        "class_counts = df.groupBy(\"Category\").count()\n",
        "class_counts.show()"
      ]
    },
    {
      "cell_type": "code",
      "execution_count": 10,
      "metadata": {
        "id": "ZJa-Qh7uugQG"
      },
      "outputs": [],
      "source": [
        "df = df.dropna()"
      ]
    },
    {
      "cell_type": "code",
      "execution_count": 11,
      "metadata": {
        "colab": {
          "base_uri": "https://localhost:8080/",
          "height": 564
        },
        "id": "WHmRvDufpjuv",
        "outputId": "c81bcf27-e8e2-4ddd-c764-afa4be7e5f02"
      },
      "outputs": [
        {
          "data": {
            "image/png": "[encoded data removed]",
            "text/plain": [
              "<Figure size 800x600 with 1 Axes>"
            ]
          },
          "metadata": {},
          "output_type": "display_data"
        }
      ],
      "source": [
        "from pyspark.sql.functions import col\n",
        "import matplotlib.pyplot as plt\n",
        "\n",
        "class_counts = df.groupBy(\"Category\").count().toPandas()\n",
        "\n",
        "plt.figure(figsize=(6, 4))\n",
        "plt.bar(class_counts[\"Category\"], class_counts[\"count\"], color=['blue', 'green', 'red', 'orange'])\n",
        "plt.xlabel(\"News Category\")\n",
        "plt.ylabel(\"Count\")\n",
        "plt.title(\"Distribution of News Categories\")\n",
        "plt.show()"
      ]
    },
    {
      "cell_type": "markdown",
      "metadata": {
        "id": "c23k8OIG7wA8"
      },
      "source": [
        "# Preprocessing"
      ]
    },
    {
      "cell_type": "markdown",
      "metadata": {
        "id": "uulci0l67yFb"
      },
      "source": [
        "## 1. Converting Titles to Lowercase\n",
        "To maintain consistency and reduce redundancy in text processing, all titles are converted to lowercase.\n",
        "\n",
        "This ensures that words with different capitalizations are treated as the same entity, improving the accuracy of subsequent text-processing steps."
      ]
    },
    {
      "cell_type": "code",
      "execution_count": 12,
      "metadata": {
        "id": "yDbKtkSZy5K2"
      },
      "outputs": [],
      "source": [
        "from pyspark.sql.functions import lower\n",
        "\n",
        "df = df.withColumn(\"Title\", lower(df[\"Title\"]))"
      ]
    },
    {
      "cell_type": "markdown",
      "metadata": {
        "id": "WUbGGbg573aZ"
      },
      "source": [
        "## 2. Tokenizing Titles\n",
        "The text data is then tokenized by splitting each title into individual words.\n",
        "\n",
        "This step prepares the data for further processing by transforming text into structured sequences of tokens."
      ]
    },
    {
      "cell_type": "code",
      "execution_count": 13,
      "metadata": {
        "id": "EXusBOdSy77q"
      },
      "outputs": [],
      "source": [
        "from pyspark.ml.feature import Tokenizer, StopWordsRemover\n",
        "\n",
        "tokenizer = Tokenizer(inputCol=\"Title\", outputCol=\"words\")\n",
        "df = tokenizer.transform(df)"
      ]
    },
    {
      "cell_type": "markdown",
      "metadata": {
        "id": "Ev-GOxQ578U9"
      },
      "source": [
        "## 3. Removing Stop Words\n",
        "Common stop words, such as \"the,\" \"is,\" and \"in,\" are removed to eliminate non-essential words.\n",
        "\n",
        "This step helps retain only meaningful words that contribute to the context of the title, enhancing the quality of feature extraction."
      ]
    },
    {
      "cell_type": "code",
      "execution_count": 14,
      "metadata": {
        "id": "_1EwzeE1774I"
      },
      "outputs": [],
      "source": [
        "remover = StopWordsRemover(inputCol=\"words\", outputCol=\"filtered_words\")\n",
        "df = remover.transform(df)"
      ]
    },
    {
      "cell_type": "markdown",
      "metadata": {
        "id": "ZWw3SGVs8GOi"
      },
      "source": [
        "## 4. Balancing the Dataset Across Categories\n",
        "To prevent class imbalance from influencing model performance, the dataset is resampled so that each category has an equal number of records.\n",
        "\n",
        "The minimum class count is determined, and a sampling fraction is calculated for each category.\n",
        "\n",
        "The dataset is then resampled accordingly, ensuring a more balanced representation across categories."
      ]
    },
    {
      "cell_type": "code",
      "execution_count": 15,
      "metadata": {
        "id": "Y1XJI28Ep0Ga"
      },
      "outputs": [],
      "source": [
        "fractions = df.groupBy(\"Category\").count().toPandas()\n",
        "min_count = fractions[\"count\"].min()\n",
        "\n",
        "fractions_dict = {row[\"Category\"]: min_count / row[\"count\"] for _, row in fractions.iterrows()}\n",
        "\n",
        "df = df.sampleBy(\"Category\", fractions=fractions_dict, seed=42)"
      ]
    },
    {
      "cell_type": "code",
      "execution_count": 16,
      "metadata": {
        "colab": {
          "base_uri": "https://localhost:8080/",
          "height": 564
        },
        "id": "PkiU7sJjwwyT",
        "outputId": "df08e270-e4e5-4d15-8953-f56e25dadf1e"
      },
      "outputs": [
        {
          "data": {
            "image/png": "[encoded data removed]",
            "text/plain": [
              "<Figure size 800x600 with 1 Axes>"
            ]
          },
          "metadata": {},
          "output_type": "display_data"
        }
      ],
      "source": [
        "class_counts = df.groupBy(\"Category\").count().toPandas()\n",
        "\n",
        "plt.figure(figsize=(6, 4))\n",
        "plt.bar(class_counts[\"Category\"], class_counts[\"count\"], color=['blue', 'green', 'red', 'orange'])\n",
        "plt.xlabel(\"News Category\")\n",
        "plt.ylabel(\"Count\")\n",
        "plt.title(\"Distribution of News Categories\")\n",
        "plt.show()"
      ]
    },
    {
      "cell_type": "markdown",
      "metadata": {
        "id": "uni6JOpV8B-n"
      },
      "source": [
        "## 5. Generating Word Embeddings with Word2Vec\n",
        "A Word2Vec model is trained on the tokenized text to generate numerical vector representations for each title.\n",
        "\n",
        "These embeddings capture semantic relationships between words, enabling more advanced analyses and machine learning applications.\n",
        "\n",
        "The transformed dataset now includes a new column containing the computed feature vectors."
      ]
    },
    {
      "cell_type": "code",
      "execution_count": 48,
      "metadata": {
        "colab": {
          "base_uri": "https://localhost:8080/",
          "height": 0
        },
        "id": "m3SWw6TnxGgX",
        "outputId": "b706f8fd-4493-4922-a0a1-e45478304ff9"
      },
      "outputs": [
        {
          "name": "stdout",
          "output_type": "stream",
          "text": [
            "+--------------------+--------------------+\n",
            "|               Title| word_2_vec_features|\n",
            "+--------------------+--------------------+\n",
            "|\"22 jump street\":...|[0.02605113020399...|\n",
            "|\"acid bath stem c...|[0.02982718311250...|\n",
            "|\"alice\" from 'the...|[0.06149004162712...|\n",
            "|\"american idol\" t...|[-0.0181223555700...|\n",
            "|\"avengers: age of...|[-0.0172859901795...|\n",
            "+--------------------+--------------------+\n",
            "only showing top 5 rows\n",
            "\n"
          ]
        }
      ],
      "source": [
        "from pyspark.ml.feature import Word2Vec\n",
        "\n",
        "word2Vec = Word2Vec(vectorSize=100, minCount=2, inputCol=\"filtered_words\", outputCol=\"word_2_vec_features\")\n",
        "w2v_model = word2Vec.fit(df)\n",
        "df = w2v_model.transform(df)\n",
        "\n",
        "df.select(\"Title\", \"word_2_vec_features\").show(5)"
      ]
    },
    {
      "cell_type": "markdown",
      "metadata": {
        "id": "Qzc0Vlla8R19"
      },
      "source": [
        "## 6. Converting Text Labels to Numerical Indices\n",
        "Since machine learning models require numerical inputs, the categorical 'Category' column is first transformed into numerical indices using StringIndexer, with the indices explicitly cast to integers to ensure compatibility.\n",
        "\n",
        "Next, one-hot encoding is applied with dropLast=False to convert these indices into binary vectors of the correct size, ensuring that categorical features are represented numerically without implying an ordinal relationship."
      ]
    },
    {
      "cell_type": "code",
      "execution_count": 19,
      "metadata": {
        "colab": {
          "base_uri": "https://localhost:8080/",
          "height": 0
        },
        "id": "o0erNaos4CED",
        "outputId": "35a3ef51-a959-4a3a-c481-4080f9cb86fb"
      },
      "outputs": [
        {
          "name": "stdout",
          "output_type": "stream",
          "text": [
            "+--------+--------------+---------------------+\n",
            "|Category|Category_index|Category_onehot_dense|\n",
            "+--------+--------------+---------------------+\n",
            "|m       |3             |[0.0, 0.0, 0.0, 1.0] |\n",
            "|t       |2             |[0.0, 0.0, 1.0, 0.0] |\n",
            "|b       |1             |[0.0, 1.0, 0.0, 0.0] |\n",
            "|e       |0             |[1.0, 0.0, 0.0, 0.0] |\n",
            "+--------+--------------+---------------------+\n",
            "\n"
          ]
        }
      ],
      "source": [
        "from pyspark.ml.feature import StringIndexer, OneHotEncoder\n",
        "from pyspark.sql.functions import col, udf\n",
        "from pyspark.ml.linalg import SparseVector\n",
        "from pyspark.sql.types import ArrayType, DoubleType\n",
        "\n",
        "indexer = StringIndexer(inputCol=\"Category\", outputCol=\"Category_index\")\n",
        "df = indexer.fit(df).transform(df).withColumn(\"Category_index\", col(\"Category_index\").cast(\"int\"))\n",
        "\n",
        "encoder = OneHotEncoder(inputCol=\"Category_index\", outputCol=\"Category_onehot\", dropLast=False)\n",
        "df = encoder.fit(df).transform(df)\n",
        "\n",
        "# Convert SparseVector to Dense Array\n",
        "to_dense_udf = udf(lambda v: v.toArray().tolist() if isinstance(v, SparseVector) else v, ArrayType(DoubleType()))\n",
        "df = df.withColumn(\"Category_onehot_dense\", to_dense_udf(df[\"Category_onehot\"]))\n",
        "\n",
        "df.select(\"Category\", \"Category_index\", \"Category_onehot_dense\").distinct().show()"
      ]
    },
    {
      "cell_type": "markdown",
      "metadata": {
        "id": "l3TsEkJV7DzW"
      },
      "source": [
        "# Model training"
      ]
    },
    {
      "cell_type": "markdown",
      "metadata": {
        "id": "3y-rnc1--Y4h"
      },
      "source": [
        "## 1. Training and Evaluating PySpark ML models\n"
      ]
    },
    {
      "cell_type": "markdown",
      "metadata": {
        "id": "NyTRH0ltDcAE"
      },
      "source": [
        "TrainingProcessor class is designed to handle model training, evaluation, and optional cross-validation, ensuring a scalable and reusable approach.\n",
        "\n",
        "The training process supports **cross-validation**, which helps optimize model performance by tuning hyperparameters through multiple data splits.  \n",
        "\n",
        "To ensure a thorough evaluation, multiple **classification metrics**, including accuracy, precision, recall, F1-score, and log loss—are calculated.\n",
        "\n",
        "Finally, the pipeline integrates all steps into a **workflow**, automating the end-to-end process of model training and evaluation while allowing flexibility for model selection and hyperparameter tuning."
      ]
    },
    {
      "cell_type": "code",
      "execution_count": 41,
      "metadata": {
        "id": "5nly3omY7DMQ"
      },
      "outputs": [],
      "source": [
        "import time\n",
        "from pyspark.ml.evaluation import MulticlassClassificationEvaluator\n",
        "from pyspark.ml.tuning import CrossValidator\n",
        "from tqdm import tqdm\n",
        "\n",
        "\n",
        "class TrainingProcessor:\n",
        "    \"\"\"\n",
        "    A class to handle model training and evaluation with optional cross-validation.\n",
        "    \"\"\"\n",
        "\n",
        "    def __init__(self, model, train_data, test_data, label_col):\n",
        "        \"\"\"\n",
        "        Initializes the training processor.\n",
        "\n",
        "        Args:\n",
        "            model: PySpark ML model instance.\n",
        "            train_data: Preprocessed training data.\n",
        "            test_data: Preprocessed test data.\n",
        "            label_col: Name of the label column.\n",
        "        \"\"\"\n",
        "        self.model = model\n",
        "        self.train_data = train_data\n",
        "        self.test_data = test_data\n",
        "        self.label_col = label_col\n",
        "\n",
        "    def apply_cross_validation(self, param_grid, num_folds):\n",
        "        \"\"\"\n",
        "        Applies cross-validation using the provided hyperparameter grid.\n",
        "\n",
        "        Args:\n",
        "            param_grid: Hyperparameter grid for tuning.\n",
        "            num_folds: Number of folds for cross-validation.\n",
        "\n",
        "        Returns:\n",
        "            CrossValidator instance.\n",
        "        \"\"\"\n",
        "        return CrossValidator(\n",
        "            estimator=self.model,\n",
        "            estimatorParamMaps=param_grid,\n",
        "            evaluator=MulticlassClassificationEvaluator(labelCol=self.label_col, metricName=\"accuracy\"),\n",
        "            numFolds=num_folds\n",
        "        )\n",
        "\n",
        "    def train(self, use_cv=False, param_grid=None, num_folds=3, save_path=None):\n",
        "        \"\"\"\n",
        "        Trains the model, optionally using cross-validation.\n",
        "\n",
        "        Args:\n",
        "            use_cv: Whether to use cross-validation (default: False).\n",
        "            param_grid: Hyperparameter grid for tuning (default: None).\n",
        "            num_folds: Number of folds for cross-validation (default: 3).\n",
        "            save_path: Path to save the trained model (default: None).\n",
        "\n",
        "        Returns:\n",
        "            trained_model: The trained model.\n",
        "            predictions: DataFrame with model predictions.\n",
        "            train_time: Time taken for training.\n",
        "            inference_time: Time taken for inference.\n",
        "            train_loss: Training loss if available.\n",
        "        \"\"\"\n",
        "        estimator = self.apply_cross_validation(param_grid, num_folds) if use_cv and param_grid else self.model\n",
        "        print(f\"Training {self.model}...\")\n",
        "\n",
        "        with tqdm(total=2, desc=f\"{self.model} Progress\", unit=\"step\") as pbar:\n",
        "            start_time = time.time()\n",
        "            trained_model = estimator.fit(self.train_data)\n",
        "            train_time = time.time() - start_time\n",
        "            pbar.update(1)\n",
        "\n",
        "            if isinstance(trained_model, CrossValidator):\n",
        "                trained_model = trained_model.bestModel\n",
        "\n",
        "            if save_path:\n",
        "                trained_model.write().overwrite().save(save_path)\n",
        "                print(f\"Model saved at {save_path}\")\n",
        "\n",
        "            train_loss = None\n",
        "            if hasattr(trained_model, \"summary\") and hasattr(trained_model.summary, \"objectiveHistory\"):\n",
        "                train_loss = trained_model.summary.objectiveHistory[-1]\n",
        "\n",
        "            start_time = time.time()\n",
        "            predictions = trained_model.transform(self.test_data)\n",
        "            inference_time = time.time() - start_time\n",
        "\n",
        "        return trained_model, predictions, train_time, inference_time, train_loss\n",
        "\n",
        "    def evaluate(self, predictions, train_time, inference_time, train_loss):\n",
        "        \"\"\"\n",
        "        Evaluates the model's performance using accuracy, precision, recall, and F1-score.\n",
        "\n",
        "        Args:\n",
        "            predictions: DataFrame with model predictions.\n",
        "            train_time: Time taken for training.\n",
        "            inference_time: Time taken for inference.\n",
        "            train_loss: Training loss if available.\n",
        "        \"\"\"\n",
        "        accuracy_evaluator = MulticlassClassificationEvaluator(labelCol=self.label_col, predictionCol=\"prediction\", metricName=\"accuracy\")\n",
        "        log_loss_evaluator = MulticlassClassificationEvaluator(labelCol=self.label_col, predictionCol=\"prediction\", metricName=\"logLoss\")\n",
        "        precision_evaluator = MulticlassClassificationEvaluator(labelCol=self.label_col, predictionCol=\"prediction\", metricName=\"precisionByLabel\")\n",
        "        recall_evaluator = MulticlassClassificationEvaluator(labelCol=self.label_col, predictionCol=\"prediction\", metricName=\"recallByLabel\")\n",
        "        f1_evaluator = MulticlassClassificationEvaluator(labelCol=self.label_col, predictionCol=\"prediction\", metricName=\"f1\")\n",
        "\n",
        "        accuracy = accuracy_evaluator.evaluate(predictions)\n",
        "        val_loss = log_loss_evaluator.evaluate(predictions)\n",
        "        precision = precision_evaluator.evaluate(predictions)\n",
        "        recall = recall_evaluator.evaluate(predictions)\n",
        "        f1_score = f1_evaluator.evaluate(predictions)\n",
        "\n",
        "        print(f\"Training Time: {train_time:.2f}s\")\n",
        "        print(f\"Inference Time: {inference_time:.2f}s\")\n",
        "        print(f\"Training Loss: {train_loss:.4f}\" if train_loss is not None else \"Training Loss: Not Available\")\n",
        "        print(f\"Accuracy: {accuracy:.4f}\")\n",
        "        print(f\"Precision: {precision:.4f}\")\n",
        "        print(f\"Recall: {recall:.4f}\")\n",
        "        print(f\"F1 Score: {f1_score:.4f}\")\n",
        "        print(f\"Validation Loss: {val_loss:.4f}\")\n",
        "\n",
        "    def run_pipeline(self, use_cv=False, param_grid=None, num_folds=3, save_path=None):\n",
        "        \"\"\"\n",
        "        Runs the training pipeline in the correct order: training, evaluation, and optionally cross-validation.\n",
        "\n",
        "        Args:\n",
        "            use_cv: Whether to use cross-validation (default: False).\n",
        "            param_grid: Hyperparameter grid for tuning (default: None).\n",
        "            num_folds: Number of folds for cross-validation (default: 3).\n",
        "            save_path: Path to save the trained model (default: None).\n",
        "        \"\"\"\n",
        "        trained_model, predictions, train_time, inference_time, train_loss = self.train(use_cv, param_grid, num_folds, save_path)\n",
        "        self.evaluate(predictions, train_time, inference_time, train_loss)"
      ]
    },
    {
      "cell_type": "markdown",
      "metadata": {
        "id": "d3qygyh-D302"
      },
      "source": [
        "## 2. Train/test splits\n",
        "To ensure a reliable model evaluation, the dataset is randomly split into training (80%), validation (10%), and test (10%) subsets."
      ]
    },
    {
      "cell_type": "code",
      "execution_count": 42,
      "metadata": {
        "colab": {
          "base_uri": "https://localhost:8080/",
          "height": 0
        },
        "id": "iGhFALBw8GZ3",
        "outputId": "e8bd69d0-3f61-42e2-e6be-0c9345e6a55a"
      },
      "outputs": [
        {
          "name": "stdout",
          "output_type": "stream",
          "text": [
            "Train Size: 139901, Validation Size: 17352, Test Size: 17667\n"
          ]
        }
      ],
      "source": [
        "train_data, val_data, test_data = df.randomSplit([0.8, 0.1, 0.1], seed=42)\n",
        "\n",
        "print(f\"Train Size: {train_data.count()}, Validation Size: {val_data.count()}, Test Size: {test_data.count()}\")"
      ]
    },
    {
      "cell_type": "markdown",
      "metadata": {
        "id": "gxE83Ehg7iw1"
      },
      "source": [
        "## 3. Logistic Regression"
      ]
    },
    {
      "cell_type": "markdown",
      "metadata": {
        "id": "VdmV1paFEZu_"
      },
      "source": [
        "A parameter grid is constructed using ***ParamGridBuilder*** to systematically explore different hyperparameter combinations for the model.\n",
        "\n",
        "The grid defines multiple values for ***regParam***, which controls the regularization strength, and ***elasticNetParam***, which balances between L1 (Lasso) and L2 (Ridge) regularization.\n",
        "\n",
        "This approach enables an exhaustive search across specified hyperparameter ranges, facilitating the selection of the best configuration during cross-validation."
      ]
    },
    {
      "cell_type": "code",
      "execution_count": 44,
      "metadata": {
        "colab": {
          "base_uri": "https://localhost:8080/",
          "height": 0
        },
        "id": "IPSCHBrT7YH1",
        "outputId": "d4451bb4-1849-4f01-9b42-427f928b6c32"
      },
      "outputs": [
        {
          "name": "stdout",
          "output_type": "stream",
          "text": [
            "Training LogisticRegression_2e7d79e8f4cd...\n"
          ]
        },
        {
          "name": "stderr",
          "output_type": "stream",
          "text": [
            "LogisticRegression_2e7d79e8f4cd Progress:  50%|█████     | 1/2 [00:57<00:57, 57.22s/step]\n"
          ]
        },
        {
          "name": "stdout",
          "output_type": "stream",
          "text": [
            "Training Time: 57.06s\n",
            "Inference Time: 0.13s\n",
            "Training Loss: 0.4512\n",
            "Accuracy: 0.8373\n",
            "Precision: 0.8773\n",
            "Recall: 0.8968\n",
            "F1 Score: 0.8370\n",
            "Validation Loss: 0.4483\n"
          ]
        }
      ],
      "source": [
        "from pyspark.ml.classification import LogisticRegression\n",
        "from pyspark.ml.tuning import ParamGridBuilder\n",
        "\n",
        "lr = LogisticRegression(labelCol=\"Category_index\", featuresCol=\"word_2_vec_features\")\n",
        "\n",
        "param_grid = ParamGridBuilder() \\\n",
        "    .addGrid(lr.regParam, [0.01, 0.1, 0.2]) \\\n",
        "    .addGrid(lr.elasticNetParam, [0.0, 0.5, 1.0]) \\\n",
        "    .build()\n",
        "\n",
        "trainer = TrainingProcessor(lr, train_data, test_data, label_col=\"Category_index\")\n",
        "\n",
        "trainer.run_pipeline(use_cv=False, param_grid=param_grid, num_folds=3)"
      ]
    },
    {
      "cell_type": "markdown",
      "metadata": {
        "id": "Gtu0STrG7m1r"
      },
      "source": [
        "## 4. Random Forest"
      ]
    },
    {
      "cell_type": "markdown",
      "metadata": {
        "id": "0xbpic9sEsQg"
      },
      "source": [
        "The ***numTrees*** parameter, which determines the number of trees in the forest, is varied across 10, 50, and 100 to balance model complexity and performance.\n",
        "\n",
        "The ***maxDepth*** parameter, which controls the maximum depth of each tree, is tested at values of 5, 10, and 15 to regulate model flexibility and prevent overfitting."
      ]
    },
    {
      "cell_type": "code",
      "execution_count": 45,
      "metadata": {
        "colab": {
          "base_uri": "https://localhost:8080/",
          "height": 0
        },
        "id": "WzVXf0A57lR1",
        "outputId": "d26f331a-54f5-4408-adad-2bc460c3e446"
      },
      "outputs": [
        {
          "name": "stdout",
          "output_type": "stream",
          "text": [
            "Training RandomForestClassifier_ec27042de584...\n"
          ]
        },
        {
          "name": "stderr",
          "output_type": "stream",
          "text": [
            "RandomForestClassifier_ec27042de584 Progress:  50%|█████     | 1/2 [01:04<01:04, 64.62s/step]\n"
          ]
        },
        {
          "name": "stdout",
          "output_type": "stream",
          "text": [
            "Training Time: 64.50s\n",
            "Inference Time: 0.11s\n",
            "Training Loss: 0.0000\n",
            "Accuracy: 0.7946\n",
            "Precision: 0.7948\n",
            "Recall: 0.8992\n",
            "F1 Score: 0.7932\n",
            "Validation Loss: 0.6900\n"
          ]
        }
      ],
      "source": [
        "from pyspark.ml.classification import RandomForestClassifier\n",
        "from pyspark.ml.tuning import ParamGridBuilder\n",
        "\n",
        "rf = RandomForestClassifier(labelCol=\"Category_index\", featuresCol=\"word_2_vec_features\")\n",
        "\n",
        "param_grid = ParamGridBuilder() \\\n",
        "    .addGrid(rf.numTrees, [10, 50, 100]) \\\n",
        "    .addGrid(rf.maxDepth, [5, 10, 15]) \\\n",
        "    .build()\n",
        "\n",
        "training_processor = TrainingProcessor(model=rf, train_data=train_data, test_data=test_data, label_col=\"Category_index\")\n",
        "\n",
        "training_processor.run_pipeline(use_cv=False, param_grid=param_grid, num_folds=3)"
      ]
    },
    {
      "cell_type": "markdown",
      "metadata": {
        "id": "BhocQNUwi8pP"
      },
      "source": [
        "## 5. Logistic Regression & Random Forest Models Summary\n",
        "\n"
      ]
    },
    {
      "cell_type": "markdown",
      "metadata": {
        "id": "-DsTgRlhjN2J"
      },
      "source": [
        "Prediction accuracy for ***logistic regression*** and ***random forest*** models, reaches values ranging from **0.75** to **0.85**, depending on fold and hyperparameters. Both models maintain a good tradeoff between **precision** and **recall** values.\n",
        "\n",
        "\n",
        "To enhance those results, a larger, more complex model will be introduced in the next paragraph.\n",
        "\n",
        "\n"
      ]
    },
    {
      "cell_type": "markdown",
      "metadata": {
        "id": "44vTboD_7gbY"
      },
      "source": [
        "## 6. BiLSTM"
      ]
    },
    {
      "cell_type": "markdown",
      "metadata": {
        "id": "MjCdJDgbF0rc"
      },
      "source": [
        "The Bidirectional LSTM consists of an embedding layer for word representations, followed by two bidirectional LSTM layers that process text in both forward and backward directions.\n",
        "\n",
        "Fully connected layers refine the learned features before producing final class probabilities using a softmax activation function.\n",
        "\n",
        "The model is trained using sparse categorical cross-entropy loss and optimized with Adam.\n",
        "\n",
        "Early stopping and model checkpointing ensure efficient training while preventing overfitting."
      ]
    },
    {
      "cell_type": "code",
      "execution_count": 52,
      "metadata": {
        "id": "XU-33uLb79Dd"
      },
      "outputs": [],
      "source": [
        "import time\n",
        "import tensorflow as tf\n",
        "import seaborn as sns\n",
        "from tensorflow.keras.models import Sequential\n",
        "from tensorflow.keras.layers import Embedding, LSTM, Dense, Bidirectional\n",
        "from tensorflow.keras.callbacks import EarlyStopping, ModelCheckpoint\n",
        "from sklearn.metrics import classification_report, confusion_matrix, roc_curve, auc\n",
        "\n",
        "\n",
        "class BiLSTMClassifier:\n",
        "    def __init__(self, vocab_size=10000, max_len=50, num_classes=4):\n",
        "        \"\"\"\n",
        "        Initializes the BiLSTM classifier with given hyperparameters.\n",
        "\n",
        "        Args:\n",
        "            vocab_size (int, optional): Vocabulary size. Defaults to 10000.\n",
        "            max_len (int, optional): Maximum sequence length. Defaults to 50.\n",
        "            num_classes (int, optional): Number of output classes. Defaults to 4.\n",
        "        \"\"\"\n",
        "        self.vocab_size = vocab_size\n",
        "        self.max_len = max_len\n",
        "        self.num_classes = num_classes\n",
        "        self.model = self._build_model()\n",
        "\n",
        "    def _build_model(self):\n",
        "        \"\"\"\n",
        "        Builds and compiles a Bidirectional LSTM model.\n",
        "\n",
        "        Returns:\n",
        "            Sequential: A compiled BiLSTM model.\n",
        "        \"\"\"\n",
        "        model = Sequential([\n",
        "            Embedding(input_dim=self.vocab_size, output_dim=128, input_length=self.max_len),\n",
        "            Bidirectional(LSTM(128, return_sequences=True)),\n",
        "            Bidirectional(LSTM(64)),\n",
        "            Dense(16, activation=\"tanh\"),\n",
        "            Dense(self.num_classes, activation=\"softmax\")\n",
        "        ])\n",
        "        model.compile(loss=\"categorical_crossentropy\", optimizer=\"adam\", metrics=[\"accuracy\"])\n",
        "        return model\n",
        "\n",
        "    def train(self, X_train, y_train, X_val, y_val, epochs=50, batch_size=32, model_path=\"best_bilstm_model.h5\"):\n",
        "        \"\"\"\n",
        "        Trains the BiLSTM model on the given dataset.\n",
        "\n",
        "        Args:\n",
        "            X_train (array-like): Training input data.\n",
        "            y_train (array-like): Training labels.\n",
        "            X_val (array-like): Validation input data.\n",
        "            y_val (array-like): Validation labels.\n",
        "            epochs (int, optional): Number of training epochs. Defaults to 50.\n",
        "            batch_size (int, optional): Batch size for training. Defaults to 32.\n",
        "            model_path (str, optional): File path to save the best model. Defaults to \"best_bilstm_model.h5\".\n",
        "\n",
        "        Returns:\n",
        "            tuple: The trained model and training history.\n",
        "        \"\"\"\n",
        "        early_stopping = EarlyStopping(\n",
        "            monitor=\"val_loss\",\n",
        "            patience=3,\n",
        "            restore_best_weights=True,\n",
        "        )\n",
        "\n",
        "        model_checkpoint = ModelCheckpoint(\n",
        "            model_path,\n",
        "            monitor=\"val_loss\",\n",
        "            save_best_only=True,\n",
        "        )\n",
        "\n",
        "        print(\"Training BiLSTM...\")\n",
        "        start_time = time.time()\n",
        "        history = self.model.fit(\n",
        "            X_train, y_train,\n",
        "            epochs=epochs,\n",
        "            batch_size=batch_size,\n",
        "            validation_data=(X_val, y_val),\n",
        "            callbacks=[early_stopping, model_checkpoint],\n",
        "            verbose=1\n",
        "        )\n",
        "        train_time = time.time() - start_time\n",
        "        print(f\"\\nTraining Time: {train_time:.2f}s\")\n",
        "        return self.model, history\n",
        "\n",
        "    def predict(self, X):\n",
        "        \"\"\"\n",
        "        Generates predictions using the trained BiLSTM model.\n",
        "\n",
        "        Args:\n",
        "            X (array-like): Input data to generate predictions for.\n",
        "\n",
        "        Returns:\n",
        "            array: Predicted class probabilities.\n",
        "        \"\"\"\n",
        "        return self.model.predict(X)\n",
        "\n",
        "    def evaluate(self, X_test, y_test):\n",
        "        \"\"\"\n",
        "        Evaluates the trained model on test data.\n",
        "\n",
        "        Args:\n",
        "            X_test (array-like): Test input data.\n",
        "            y_test (array-like): Test labels.\n",
        "\n",
        "        Returns:\n",
        "            tuple: Loss and accuracy metrics.\n",
        "        \"\"\"\n",
        "        return self.model.evaluate(X_test, y_test)\n",
        "\n",
        "    def compute_classification_metrics(self, X_test, y_test, class_labels):\n",
        "        \"\"\"\n",
        "        Computes and displays classification metrics including classification report, confusion matrix, and ROC curve.\n",
        "\n",
        "        Args:\n",
        "            X_test (array-like): Test input data.\n",
        "            y_test (array-like): True labels.\n",
        "            class_labels (list): List of class labels.\n",
        "        \"\"\"\n",
        "        y_pred_probs = self.predict(X_test)\n",
        "        y_pred = y_pred_probs.argmax(axis=1)\n",
        "\n",
        "        self._print_classification_report(y_test, y_pred, class_labels)\n",
        "        self._plot_confusion_matrix(y_test, y_pred, class_labels)\n",
        "        self._plot_roc_curve(y_test, y_pred_probs, class_labels)\n",
        "\n",
        "    def plot_loss(self, history):\n",
        "        \"\"\"\n",
        "        Plots the training and validation loss curves.\n",
        "\n",
        "        Args:\n",
        "            history: Training history object returned by model.fit().\n",
        "        \"\"\"\n",
        "        plt.figure(figsize=(6, 4))\n",
        "        plt.plot(history.history[\"loss\"], label=\"Training Loss\")\n",
        "        plt.plot(history.history[\"val_loss\"], label=\"Validation Loss\")\n",
        "        plt.xlabel(\"Epochs\")\n",
        "        plt.ylabel(\"Loss\")\n",
        "        plt.title(\"Loss Curve\")\n",
        "        plt.legend()\n",
        "        plt.show()\n",
        "\n",
        "    def _print_classification_report(self, y_test, y_pred, class_labels):\n",
        "        \"\"\"\n",
        "        Prints the classification report.\n",
        "        \"\"\"\n",
        "        print(\"Classification Report:\")\n",
        "        print(classification_report(y_test, y_pred, target_names=class_labels))\n",
        "\n",
        "    def _plot_confusion_matrix(self, y_test, y_pred, class_labels):\n",
        "        \"\"\"\n",
        "        Plots the confusion matrix.\n",
        "        \"\"\"\n",
        "        cm = confusion_matrix(y_test, y_pred)\n",
        "        plt.figure(figsize=(8, 6))\n",
        "        sns.heatmap(cm, annot=True, fmt=\"d\", cmap=\"Blues\", xticklabels=class_labels, yticklabels=class_labels)\n",
        "        plt.xlabel(\"Predicted\")\n",
        "        plt.ylabel(\"Actual\")\n",
        "        plt.title(\"Confusion Matrix\")\n",
        "        plt.show()\n",
        "\n",
        "    def _plot_roc_curve(self, y_test, y_pred_probs, class_labels):\n",
        "        \"\"\"\n",
        "        Plots the ROC curve for each class.\n",
        "        \"\"\"\n",
        "        plt.figure(figsize=(8, 6))\n",
        "        for i in range(len(class_labels)):\n",
        "            fpr, tpr, _ = roc_curve(y_test[:, i], y_pred_probs[:, i])\n",
        "            roc_auc = auc(fpr, tpr)\n",
        "            plt.plot(fpr, tpr, label=f\"{class_labels[i]} (AUC = {roc_auc:.2f})\")\n",
        "\n",
        "        plt.plot([0, 1], [0, 1], \"k--\")\n",
        "        plt.xlabel(\"False Positive Rate\")\n",
        "        plt.ylabel(\"True Positive Rate\")\n",
        "        plt.title(\"ROC Curve\")\n",
        "        plt.legend(loc=\"lower right\")\n",
        "        plt.show()"
      ]
    },
    {
      "cell_type": "markdown",
      "metadata": {
        "id": "ZMaSs3y_P_uf"
      },
      "source": [
        "## Tokenize using TensorFlow Tokenizer, add Padding"
      ]
    },
    {
      "cell_type": "markdown",
      "metadata": {
        "id": "SdUvs3H4fv11"
      },
      "source": [
        "This cell prepares textual and categorical data for a TensorFlow model, converting it from the Spark ML format. Since TensorFlow requires a different tokenizer format than Spark ML.\n",
        "\n",
        "A Tokenizer is then initialized with a vocabulary size of 10,000 and an out-of-vocabulary (OOV) token to handle unseen words, as TensorFlow’s tokenization process differs from Spark ML’s.\n",
        "\n",
        "The tokenizer is fitted on the filtered_words column, transforming text into sequences of integer tokens. These sequences are padded or truncated to a fixed length of 50 to ensure a uniform input size.\n",
        "\n",
        "Finally, the categorical labels, originally in Spark ML’s one-hot encoding format, are converted into a NumPy array for compatibility with TensorFlow models."
      ]
    },
    {
      "cell_type": "code",
      "execution_count": 28,
      "metadata": {
        "id": "HCT7tI2NUSxx"
      },
      "outputs": [],
      "source": [
        "import numpy as np\n",
        "from tensorflow.keras.preprocessing.text import Tokenizer\n",
        "from tensorflow.keras.preprocessing.sequence import pad_sequences\n",
        "\n",
        "pandas_df = df.select(\"filtered_words\", \"Category_onehot_dense\").toPandas()\n",
        "\n",
        "tokenizer = Tokenizer(num_words=10000, oov_token=\"<OOV>\")\n",
        "tokenizer.fit_on_texts(pandas_df[\"filtered_words\"])\n",
        "\n",
        "X = tokenizer.texts_to_sequences(pandas_df[\"filtered_words\"])\n",
        "X = pad_sequences(X, maxlen=50, padding=\"post\", truncating=\"post\")\n",
        "\n",
        "y = np.array(pandas_df[\"Category_onehot_dense\"].tolist(), dtype=np.int32)"
      ]
    },
    {
      "cell_type": "code",
      "execution_count": 29,
      "metadata": {
        "colab": {
          "base_uri": "https://localhost:8080/",
          "height": 0
        },
        "id": "j7nIXj_q8Iq8",
        "outputId": "471e0a63-f6da-435b-f87d-139e7a7c77b1"
      },
      "outputs": [
        {
          "name": "stdout",
          "output_type": "stream",
          "text": [
            "Train Size: 139936, Validation Size: 17492, Test Size: 17492\n"
          ]
        }
      ],
      "source": [
        "from sklearn.model_selection import train_test_split\n",
        "\n",
        "X_train, X_temp, y_train, y_temp = train_test_split(X, y, test_size=0.2, random_state=42)\n",
        "X_val, X_test, y_val, y_test = train_test_split(X_temp, y_temp, test_size=0.5, random_state=42)\n",
        "\n",
        "print(f\"Train Size: {len(X_train)}, Validation Size: {len(X_val)}, Test Size: {len(X_test)}\")"
      ]
    },
    {
      "cell_type": "code",
      "execution_count": 30,
      "metadata": {
        "colab": {
          "base_uri": "https://localhost:8080/",
          "height": 0
        },
        "id": "TVTvWImI7fLQ",
        "outputId": "1c108145-50a4-4971-c330-4d80af62709a"
      },
      "outputs": [
        {
          "name": "stderr",
          "output_type": "stream",
          "text": [
            "/usr/local/lib/python3.11/dist-packages/keras/src/layers/core/embedding.py:90: UserWarning: Argument `input_length` is deprecated. Just remove it.\n",
            "  warnings.warn(\n"
          ]
        },
        {
          "name": "stdout",
          "output_type": "stream",
          "text": [
            "Training BiLSTM...\n",
            "Epoch 1/10\n",
            "\u001b[1m4372/4373\u001b[0m \u001b[32m━━━━━━━━━━━━━━━━━━━\u001b[0m\u001b[37m━\u001b[0m \u001b[1m0s\u001b[0m 13ms/step - accuracy: 0.8256 - loss: 0.4513\n",
            "Epoch 1: val_loss improved from inf to 0.24620, saving model to best_bilstm_model.h5\n"
          ]
        },
        {
          "name": "stderr",
          "output_type": "stream",
          "text": [
            "WARNING:absl:You are saving your model as an HDF5 file via `model.save()` or `keras.saving.save_model(model)`. This file format is considered legacy. We recommend using instead the native Keras format, e.g. `model.save('my_model.keras')` or `keras.saving.save_model(model, 'my_model.keras')`. \n"
          ]
        },
        {
          "name": "stdout",
          "output_type": "stream",
          "text": [
            "\b\b\b\b\b\b\b\b\b\b\b\b\b\b\b\b\b\b\b\b\b\b\b\b\b\b\b\b\b\b\b\b\b\b\b\b\b\b\b\b\b\b\b\b\b\b\b\b\b\b\b\b\b\b\b\b\b\b\b\b\b\b\b\b\b\b\b\b\b\b\b\b\b\b\b\b\b\r\u001b[1m4373/4373\u001b[0m \u001b[32m━━━━━━━━━━━━━━━━━━━━\u001b[0m\u001b[37m\u001b[0m \u001b[1m71s\u001b[0m 15ms/step - accuracy: 0.8256 - loss: 0.4512 - val_accuracy: 0.9130 - val_loss: 0.2462\n",
            "Epoch 2/10\n",
            "\u001b[1m4369/4373\u001b[0m \u001b[32m━━━━━━━━━━━━━━━━━━━\u001b[0m\u001b[37m━\u001b[0m \u001b[1m0s\u001b[0m 13ms/step - accuracy: 0.9326 - loss: 0.1912\n",
            "Epoch 2: val_loss improved from 0.24620 to 0.23130, saving model to best_bilstm_model.h5\n"
          ]
        },
        {
          "name": "stderr",
          "output_type": "stream",
          "text": [
            "WARNING:absl:You are saving your model as an HDF5 file via `model.save()` or `keras.saving.save_model(model)`. This file format is considered legacy. We recommend using instead the native Keras format, e.g. `model.save('my_model.keras')` or `keras.saving.save_model(model, 'my_model.keras')`. \n"
          ]
        },
        {
          "name": "stdout",
          "output_type": "stream",
          "text": [
            "\b\b\b\b\b\b\b\b\b\b\b\b\b\b\b\b\b\b\b\b\b\b\b\b\b\b\b\b\b\b\b\b\b\b\b\b\b\b\b\b\b\b\b\b\b\b\b\b\b\b\b\b\b\b\b\b\b\b\b\b\b\b\b\b\b\b\b\b\b\b\b\b\b\b\b\b\b\r\u001b[1m4373/4373\u001b[0m \u001b[32m━━━━━━━━━━━━━━━━━━━━\u001b[0m\u001b[37m\u001b[0m \u001b[1m78s\u001b[0m 14ms/step - accuracy: 0.9326 - loss: 0.1912 - val_accuracy: 0.9185 - val_loss: 0.2313\n",
            "Epoch 3/10\n",
            "\u001b[1m4371/4373\u001b[0m \u001b[32m━━━━━━━━━━━━━━━━━━━\u001b[0m\u001b[37m━\u001b[0m \u001b[1m0s\u001b[0m 13ms/step - accuracy: 0.9480 - loss: 0.1445\n",
            "Epoch 3: val_loss did not improve from 0.23130\n",
            "\u001b[1m4373/4373\u001b[0m \u001b[32m━━━━━━━━━━━━━━━━━━━━\u001b[0m\u001b[37m\u001b[0m \u001b[1m80s\u001b[0m 14ms/step - accuracy: 0.9480 - loss: 0.1445 - val_accuracy: 0.9169 - val_loss: 0.2488\n",
            "Epoch 4/10\n",
            "\u001b[1m4373/4373\u001b[0m \u001b[32m━━━━━━━━━━━━━━━━━━━━\u001b[0m\u001b[37m\u001b[0m \u001b[1m0s\u001b[0m 13ms/step - accuracy: 0.9593 - loss: 0.1106\n",
            "Epoch 4: val_loss did not improve from 0.23130\n",
            "\u001b[1m4373/4373\u001b[0m \u001b[32m━━━━━━━━━━━━━━━━━━━━\u001b[0m\u001b[37m\u001b[0m \u001b[1m85s\u001b[0m 15ms/step - accuracy: 0.9593 - loss: 0.1106 - val_accuracy: 0.9172 - val_loss: 0.2617\n",
            "Epoch 5/10\n",
            "\u001b[1m4373/4373\u001b[0m \u001b[32m━━━━━━━━━━━━━━━━━━━━\u001b[0m\u001b[37m\u001b[0m \u001b[1m0s\u001b[0m 13ms/step - accuracy: 0.9685 - loss: 0.0854\n",
            "Epoch 5: val_loss did not improve from 0.23130\n",
            "\u001b[1m4373/4373\u001b[0m \u001b[32m━━━━━━━━━━━━━━━━━━━━\u001b[0m\u001b[37m\u001b[0m \u001b[1m79s\u001b[0m 14ms/step - accuracy: 0.9685 - loss: 0.0854 - val_accuracy: 0.9153 - val_loss: 0.3034\n",
            "Epoch 5: early stopping\n",
            "Restoring model weights from the end of the best epoch: 2.\n",
            "\n",
            "Training Time: 414.38s\n"
          ]
        }
      ],
      "source": [
        "bilstm = BiLSTMClassifier(vocab_size=10000, max_len=50, num_classes=4)\n",
        "\n",
        "model, history = bilstm.train(X_train, y_train, X_val, y_val, epochs=10, batch_size=32)"
      ]
    },
    {
      "cell_type": "markdown",
      "metadata": {
        "id": "H7lZKd2P-gzU"
      },
      "source": [
        "# Results"
      ]
    },
    {
      "cell_type": "code",
      "execution_count": 31,
      "metadata": {
        "id": "QgrSD7SWPjkZ"
      },
      "outputs": [],
      "source": [
        "class_labels = [\"Entertainment\", \"Business\", \"Technology\", \"Health\"]"
      ]
    },
    {
      "cell_type": "markdown",
      "metadata": {
        "id": "n8-cQ7iMZzbp"
      },
      "source": [
        "## BiLSTM"
      ]
    },
    {
      "cell_type": "code",
      "execution_count": 34,
      "metadata": {
        "colab": {
          "base_uri": "https://localhost:8080/",
          "height": 487
        },
        "id": "4Y8lE7Yjb5s-",
        "outputId": "1e6ab9b2-fa21-4126-e7b9-862509f6fc3a"
      },
      "outputs": [
        {
          "data": {
            "image/png": "[encoded data removed]",
            "text/plain": [
              "<Figure size 800x500 with 1 Axes>"
            ]
          },
          "metadata": {},
          "output_type": "display_data"
        }
      ],
      "source": [
        "bilstm.plot_loss(history)"
      ]
    },
    {
      "cell_type": "code",
      "execution_count": 54,
      "metadata": {
        "colab": {
          "base_uri": "https://localhost:8080/",
          "height": 796
        },
        "id": "OaBWYWikbtgt",
        "outputId": "bf32341b-57da-4359-f506-7af76374264e"
      },
      "outputs": [
        {
          "name": "stdout",
          "output_type": "stream",
          "text": [
            "\u001b[1m547/547\u001b[0m \u001b[32m━━━━━━━━━━━━━━━━━━━━\u001b[0m\u001b[37m\u001b[0m \u001b[1m4s\u001b[0m 7ms/step\n",
            "\u001b[1m547/547\u001b[0m \u001b[32m━━━━━━━━━━━━━━━━━━━━\u001b[0m\u001b[37m\u001b[0m \u001b[1m3s\u001b[0m 6ms/step\n",
            "               precision    recall  f1-score   support\n",
            "\n",
            "     Business       0.95      0.94      0.95      4484\n",
            "   Technology       0.91      0.88      0.89      4324\n",
            "Entertainment       0.89      0.91      0.90      4299\n",
            "       Health       0.93      0.95      0.94      4385\n",
            "\n",
            "     accuracy                           0.92     17492\n",
            "    macro avg       0.92      0.92      0.92     17492\n",
            " weighted avg       0.92      0.92      0.92     17492\n",
            "\n"
          ]
        },
        {
          "data": {
            "image/png": "[encoded data removed]",
            "text/plain": [
              "<Figure size 800x600 with 2 Axes>"
            ]
          },
          "metadata": {},
          "output_type": "display_data"
        }
      ],
      "source": [
        "y_test = np.argmax(y_test, axis=1)\n",
        "y_pred = model.predict(X_test).argmax(axis=1)\n",
        "\n",
        "bilstm.compute_classification_metrics(X_test, y_test, class_labels=class_labels)"
      ]
    },
    {
      "cell_type": "markdown",
      "metadata": {
        "id": "GSTQBhsrjPEH"
      },
      "source": [
        "## Summary\n",
        "\n",
        "* The loss converges very well, with the model performing at a maximum accuracy of **0.9685**, which is a good result for a production model.\n",
        "\n",
        "* Most of the mistakes were related to confusing **Entertainment** and **Technology** categories.\n",
        "\n",
        "* This could be improved in further iterations, by adding more data representing these categories.\n",
        "\n",
        "* Additionally, more combinations of hyperparameters, including different model sizes could be tested to streamline inference and training time as well as predictive capabilities."
      ]
    },
    {
      "cell_type": "markdown",
      "metadata": {
        "id": "b0KzBWwBD8L9"
      },
      "source": [
        "# Further Improvements for the Experiment\n",
        "* Apply stemming or lemmatization to normalize words and reduce variations in vocabulary.\n",
        "\n",
        "* Experiment with TF-IDF, pre-trained embeddings (e.g., GloVe, BERT), or n-grams to improve text representation.\n",
        "\n",
        "* Adjust Word2Vec parameters such as vector size, window size, and minCount for optimal performance.\n",
        "\n",
        "* Use SMOTE (Synthetic Minority Over-sampling Technique) or stratified sampling instead of simple undersampling to maintain data diversity.\n",
        "\n",
        "* Visualize word distributions, category frequencies, and feature correlations to uncover deeper insights before modeling.\n",
        "\n",
        "* Identify and remove anomalies in the dataset that could skew model performance.\n",
        "\n",
        "* Extract additional meaningful features from the dataset, such as text length or sentiment scores, to enhance predictive power.\n",
        "\n",
        "* Explore more models to find the best accuracy, inference time and training time tradeoff.\n",
        "\n",
        "\n",
        "\n",
        "\n",
        "\n",
        "\n"
      ]
    }
  ],
  "metadata": {
    "accelerator": "GPU",
    "colab": {
      "gpuType": "T4",
      "provenance": []
    },
    "kernelspec": {
      "display_name": "Python 3",
      "name": "python3"
    },
    "language_info": {
      "name": "python"
    }
  },
  "nbformat": 4,
  "nbformat_minor": 0
}
